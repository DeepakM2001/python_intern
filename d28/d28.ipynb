{
 "cells": [
  {
   "cell_type": "code",
   "execution_count": 1,
   "id": "53ed5d84",
   "metadata": {},
   "outputs": [
    {
     "name": "stdout",
     "output_type": "stream",
     "text": [
      "\n",
      "Starting Thread\n",
      "Thread[1]: 2021-07-12\n",
      "Exiting Thread\n",
      "\n",
      "Starting Thread\n",
      "Thread[2]: 2021-07-12\n",
      "Exiting Thread\n"
     ]
    }
   ],
   "source": [
    "import threading\n",
    "import datetime\n",
    "class myThread (threading.Thread):\n",
    "    def __init__(self, name, counter):\n",
    "        threading.Thread.__init__(self)\n",
    "        self.threadID = counter\n",
    "        self.name = name\n",
    "        self.counter = counter\n",
    "    def run(self):\n",
    "        print(\"\\nStarting \" + self.name)\n",
    "        print_date(self.name, self.counter)\n",
    "        print(\"Exiting \" + self.name)\n",
    "\n",
    "def print_date(threadName, counter):\n",
    "    datefields = []\n",
    "    today = datetime.date.today()\n",
    "    datefields.append(today)\n",
    "    print(\"{}[{}]: {}\".format( threadName, counter, datefields[0] ))\n",
    "\n",
    "# Create new threads\n",
    "thread1 = myThread(\"Thread\", 1)\n",
    "thread2 = myThread(\"Thread\", 2)\n",
    "\n",
    "thread1.start()\n",
    "thread2.start()\n",
    "\n",
    "thread1.join()\n",
    "thread2.join()"
   ]
  },
  {
   "cell_type": "code",
   "execution_count": null,
   "id": "53c71c97",
   "metadata": {},
   "outputs": [],
   "source": [
    "#Define a new subclass of the Thread class.\n",
    "Override the _init__(self [,args]) method to add additional arguments.\n",
    "Then, you need to override the run(self [,args]) method to implement what the thread should do when it is started.\n"
   ]
  },
  {
   "cell_type": "code",
   "execution_count": null,
   "id": "4998e4a9",
   "metadata": {},
   "outputs": [],
   "source": [
    "#Instantiate the subclass and trigger the thread.\n",
    "\n",
    "To create our own thread in Python, we'll want to make our class to work as a thread. For this, we should subclass our class from the Thread class"
   ]
  }
 ],
 "metadata": {
  "kernelspec": {
   "display_name": "Python 3",
   "language": "python",
   "name": "python3"
  },
  "language_info": {
   "codemirror_mode": {
    "name": "ipython",
    "version": 3
   },
   "file_extension": ".py",
   "mimetype": "text/x-python",
   "name": "python",
   "nbconvert_exporter": "python",
   "pygments_lexer": "ipython3",
   "version": "3.8.8"
  }
 },
 "nbformat": 4,
 "nbformat_minor": 5
}
