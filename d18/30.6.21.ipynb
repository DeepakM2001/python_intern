{
 "cells": [
  {
   "cell_type": "code",
   "execution_count": 1,
   "id": "35440dbc",
   "metadata": {},
   "outputs": [
    {
     "name": "stdout",
     "output_type": "stream",
     "text": [
      "('db',)\n",
      "('doctors1',)\n",
      "('information_schema',)\n",
      "('internship',)\n",
      "('ip',)\n",
      "('mydatabase',)\n",
      "('mysql',)\n",
      "('nothing',)\n",
      "('performance_schema',)\n",
      "('sys',)\n"
     ]
    }
   ],
   "source": [
    "import mysql.connector\n",
    "mydb = mysql.connector.connect(\n",
    "  host=\"localhost\",\n",
    "  user=\"root\",\n",
    "  password=\"1234\"\n",
    ")\n",
    "\n",
    "dbse = mydb.cursor()\n",
    "\n",
    "dbse.execute(\"CREATE DATABASE Doctors1\")\n",
    "dbse = mydb.cursor()\n",
    "\n",
    "dbse.execute(\"SHOW DATABASES\")\n",
    "\n",
    "for entry in dbse:\n",
    "  print(entry)"
   ]
  },
  {
   "cell_type": "code",
   "execution_count": 2,
   "id": "ef80e8d9",
   "metadata": {},
   "outputs": [
    {
     "name": "stdout",
     "output_type": "stream",
     "text": [
      "('doctors',)\n"
     ]
    }
   ],
   "source": [
    "\n",
    "mydb = mysql.connector.connect(\n",
    "  host=\"localhost\",\n",
    " user=\"root\",\n",
    "  password=\"1234\",\n",
    "  database=\"Doctors1\"\n",
    ")\n",
    "dbse = mydb.cursor()\n",
    "\n",
    "dbse.execute(\"CREATE TABLE Doctors (dr_id VARCHAR(255), Patient_visited VARCHAR(255))\")\n",
    "dbse = mydb.cursor()\n",
    "\n",
    "dbse.execute(\"SHOW TABLES\")\n",
    "\n",
    "for value in dbse:\n",
    "  print(value)"
   ]
  },
  {
   "cell_type": "code",
   "execution_count": 3,
   "id": "c3cc93a7",
   "metadata": {},
   "outputs": [
    {
     "name": "stdout",
     "output_type": "stream",
     "text": [
      "16 was inserted.\n"
     ]
    }
   ],
   "source": [
    "mydb = mysql.connector.connect(\n",
    "  host=\"localhost\",\n",
    " user=\"root\",\n",
    "  password=\"1234\",\n",
    "  database=\"Doctors1\"\n",
    ")\n",
    "dbse = mydb.cursor()\n",
    "sql = \"INSERT INTO Doctors (dr_id , Patient_visited) VALUES (%s,%s)\"\n",
    "val = [\n",
    "  ('DID1','10'),\n",
    "    ('DID2','3'),\n",
    "    ('DID3','8'),\n",
    "    ('DID5','0'),\n",
    "    ('DID123','15'),\n",
    "    ('DID26','9'),\n",
    "    ('DID78','0'),\n",
    "    ('DID65','0'),\n",
    "     ('DID23','15'),\n",
    "    ('DID262','9'),\n",
    "    ('DID783','0'),\n",
    "    ('DID651','0'), \n",
    "    ('DID13','19'),\n",
    "    ('DID267','7'),\n",
    "    ('DID8','0'),\n",
    "    ('DID59','0')    \n",
    "]\n",
    "\n",
    "dbse.executemany(sql, val)\n",
    "\n",
    "mydb.commit()\n",
    "\n",
    "print(dbse.rowcount, \"was inserted.\")"
   ]
  },
  {
   "cell_type": "code",
   "execution_count": 4,
   "id": "ff5e884a",
   "metadata": {},
   "outputs": [
    {
     "name": "stdout",
     "output_type": "stream",
     "text": [
      "('DID1', '10')\n",
      "('DID3', '8')\n",
      "('DID123', '15')\n",
      "('DID26', '9')\n",
      "('DID23', '15')\n",
      "('DID262', '9')\n",
      "('DID13', '19')\n",
      "('DID267', '7')\n"
     ]
    }
   ],
   "source": [
    "\n",
    "mycursor = mydb.cursor()\n",
    "\n",
    "mycursor.execute(\"SELECT * FROM Doctors where Patient_visited=0\")\n",
    "\n",
    "myresult = mycursor.fetchall()\n",
    "\n",
    "for x in myresult:\n",
    "  print(x)\n",
    "mycursor = mydb.cursor()\n",
    "\n",
    "mycursor.execute(\"SELECT * FROM Doctors where Patient_visited >5\")\n",
    "\n",
    "myresult = mycursor.fetchall()\n",
    "\n",
    "for x in myresult:\n",
    "  print(x)"
   ]
  },
  {
   "cell_type": "code",
   "execution_count": 5,
   "id": "21d7d22d",
   "metadata": {},
   "outputs": [
    {
     "name": "stdout",
     "output_type": "stream",
     "text": [
      "('DID5', '0')\n",
      "('DID78', '0')\n",
      "('DID65', '0')\n",
      "('DID783', '0')\n",
      "('DID651', '0')\n",
      "('DID8', '0')\n",
      "('DID59', '0')\n",
      "('DID5', '0')\n",
      "('DID78', '0')\n",
      "('DID65', '0')\n",
      "('DID783', '0')\n",
      "('DID651', '0')\n",
      "('DID8', '0')\n",
      "('DID59', '0')\n"
     ]
    }
   ],
   "source": [
    "mycursor = mydb.cursor()\n",
    "\n",
    "mycursor.execute(\"SELECT * FROM Doctors where Patient_visited=0\")\n",
    "\n",
    "myresult = mycursor.fetchall()\n",
    "\n",
    "for x in myresult:\n",
    "  print(x)\n",
    "mycursor = mydb.cursor()\n",
    "\n",
    "mycursor.execute(\"SELECT * FROM Doctors where Patient_visited=0\")\n",
    "\n",
    "myresult = mycursor.fetchall()\n",
    "\n",
    "for x in myresult:\n",
    "  print(x)"
   ]
  },
  {
   "cell_type": "code",
   "execution_count": null,
   "id": "5df4fe95",
   "metadata": {},
   "outputs": [],
   "source": []
  }
 ],
 "metadata": {
  "kernelspec": {
   "display_name": "Python 3",
   "language": "python",
   "name": "python3"
  },
  "language_info": {
   "codemirror_mode": {
    "name": "ipython",
    "version": 3
   },
   "file_extension": ".py",
   "mimetype": "text/x-python",
   "name": "python",
   "nbconvert_exporter": "python",
   "pygments_lexer": "ipython3",
   "version": "3.8.8"
  }
 },
 "nbformat": 4,
 "nbformat_minor": 5
}
